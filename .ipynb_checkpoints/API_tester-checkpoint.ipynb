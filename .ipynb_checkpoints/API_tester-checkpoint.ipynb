{
 "cells": [
  {
   "cell_type": "markdown",
   "id": "8f309812-2649-4171-b520-e18c3c243725",
   "metadata": {},
   "source": [
    "# Testando a API"
   ]
  },
  {
   "cell_type": "markdown",
   "id": "b4711577-8637-4cb0-9e91-39ede564fddf",
   "metadata": {},
   "source": [
    "No NoteBook abaixo irei apresentar um script para teste da API desenvolvida no projeto de previsão de vendas das lojas Rossmann"
   ]
  },
  {
   "cell_type": "code",
   "execution_count": 58,
   "id": "513a3a51-493e-45f1-b1da-ea2cbce47488",
   "metadata": {},
   "outputs": [],
   "source": [
    "# Importando bibliotecas\n",
    "import requests\n",
    "import json\n",
    "import pandas as pd"
   ]
  },
  {
   "cell_type": "code",
   "execution_count": 68,
   "id": "500f89f8-eea2-4cfe-a68b-e13d3d4ee1a6",
   "metadata": {},
   "outputs": [],
   "source": [
    "# Carregando os dados de teste em produção\n",
    "test_df = pd.read_csv(\"test.csv\")\n",
    "store_df = pd.read_csv(\"store.csv\")\n",
    "\n",
    "# Juntando os dados das lojas com os dados das vendas\n",
    "df = pd.merge(test_df, store_df, how = 'left', on = \"Store\")\n",
    "\n",
    "# Teste da API\n",
    "\n",
    "# Realizando a predição de lojas aleatório, basta escolher o valor da variável n_lojas e descomentar a linha abaixo:\n",
    "n_lojas = 5\n",
    "df = df[df[\"Store\"].isin(df[\"Store\"].sample(n_lojas))]\n",
    "\n",
    "# Selecionando as lojas para as quais serão realizadas as predições, basta preencher o número das lojas na lista abaixo e descomentar a linha a seguir:\n",
    "lojas = [22]\n",
    "#df = df[df[\"Store\"].isin(lojas)]\n",
    "\n",
    "# Retirando do DF de teste os dias que as lojas estavam fechadas e dados faltantes\n",
    "df = df[df[\"Open\"] == 1]\n",
    "df = df[~df[\"Open\"].isnull()]"
   ]
  },
  {
   "cell_type": "code",
   "execution_count": 69,
   "id": "6a1b9506-1577-49aa-b114-e107b8a7c981",
   "metadata": {},
   "outputs": [],
   "source": [
    "# Convertendo o DF em Json\n",
    "data = json.dumps(df.to_dict(orient = \"records\"))"
   ]
  },
  {
   "cell_type": "code",
   "execution_count": 70,
   "id": "cc07286b-062d-4a14-b25f-b14024f4c81c",
   "metadata": {},
   "outputs": [
    {
     "name": "stdout",
     "output_type": "stream",
     "text": [
      "Status Code 200\n"
     ]
    }
   ],
   "source": [
    "url = \"http://192.168.15.37:5000/rossmann/predict\"\n",
    "header = {'Content-type': \"application/json\"}\n",
    "data = data\n",
    "\n",
    "r = requests.post(url, data = data, headers = header)\n",
    "print(\"Status Code {}\".format(r.status_code))"
   ]
  },
  {
   "cell_type": "code",
   "execution_count": 71,
   "id": "0c436072-8324-45c1-9df6-909be4d92213",
   "metadata": {},
   "outputs": [],
   "source": [
    "df1 = pd.DataFrame(r.json(), columns = r.json()[0].keys())"
   ]
  },
  {
   "cell_type": "code",
   "execution_count": 72,
   "id": "00b084cd-ebf5-432c-95cd-95e4c3ed7cbb",
   "metadata": {},
   "outputs": [
    {
     "name": "stdout",
     "output_type": "stream",
     "text": [
      "A loja 74 irá gerar R$ 256,667.83 de receita nos próximos 6 meses\n",
      "A loja 101 irá gerar R$ 316,273.33 de receita nos próximos 6 meses\n",
      "A loja 298 irá gerar R$ 351,027.57 de receita nos próximos 6 meses\n",
      "A loja 447 irá gerar R$ 215,054.70 de receita nos próximos 6 meses\n",
      "A loja 831 irá gerar R$ 515,533.81 de receita nos próximos 6 meses\n"
     ]
    }
   ],
   "source": [
    "for i in df1[\"store\"].unique():\n",
    "    loja = i\n",
    "    receita = df1[df1[\"store\"] == loja][\"prediction\"].sum()\n",
    "    print(\"A loja {} irá gerar R$ {:,.2f} de receita nos próximos 6 meses\".format(loja, receita))"
   ]
  }
 ],
 "metadata": {
  "kernelspec": {
   "display_name": "Python 3 (ipykernel)",
   "language": "python",
   "name": "python3"
  },
  "language_info": {
   "codemirror_mode": {
    "name": "ipython",
    "version": 3
   },
   "file_extension": ".py",
   "mimetype": "text/x-python",
   "name": "python",
   "nbconvert_exporter": "python",
   "pygments_lexer": "ipython3",
   "version": "3.9.7"
  }
 },
 "nbformat": 4,
 "nbformat_minor": 5
}
